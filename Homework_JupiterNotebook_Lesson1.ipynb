{
 "cells": [
  {
   "cell_type": "markdown",
   "id": "daf12139",
   "metadata": {},
   "source": [
    "## Задача 2"
   ]
  },
  {
   "cell_type": "markdown",
   "id": "96277ba3",
   "metadata": {},
   "source": [
    "На складе лежат разные фрукты в разном количестве.\n",
    "Нужно написать функцию, которая на вход принимает любое количество названий фруктов и их количество, а возвращает общее количество фруктов на складе"
   ]
  },
  {
   "cell_type": "code",
   "execution_count": 36,
   "id": "9e8df82c",
   "metadata": {},
   "outputs": [],
   "source": [
    "def total_fruits(**kwargs):\n",
    "    {print({name}, {values}) for name, values in kwargs.items()}\n",
    "    return print(f'Fruits sum is {sum(kwargs.values())}')"
   ]
  },
  {
   "cell_type": "code",
   "execution_count": 37,
   "id": "99139a88",
   "metadata": {},
   "outputs": [
    {
     "name": "stdout",
     "output_type": "stream",
     "text": [
      "{'banana'} {5}\n",
      "{'apple'} {7}\n",
      "{'kiwi'} {11}\n",
      "Fruits sum is 23\n"
     ]
    }
   ],
   "source": [
    "total_fruits(banana = 5, apple = 7, kiwi = 11)"
   ]
  },
  {
   "cell_type": "markdown",
   "id": "353d9d82",
   "metadata": {},
   "source": [
    "## Задача 3"
   ]
  },
  {
   "cell_type": "markdown",
   "id": "0228e214",
   "metadata": {},
   "source": [
    "Дан список с затратами на рекламу. Но в данных есть ошибки, некоторые затраты имеют отрицательную величину. Удалите такие значения из списка и посчитайте суммарные затраты\n",
    "[100, 125, -90, 345, 655, -1, 0, 200]\n",
    "Используйте list comprehensions"
   ]
  },
  {
   "cell_type": "code",
   "execution_count": 28,
   "id": "fb7e2bd1",
   "metadata": {},
   "outputs": [
    {
     "name": "stdout",
     "output_type": "stream",
     "text": [
      "[100, 125, 345, 655, 200]\n",
      "1425\n"
     ]
    }
   ],
   "source": [
    "numbers = [100, 125, -90, 345, 655, -1, 0, 200]\n",
    "positive_numbers = [n for n in numbers if n > 0]\n",
    " \n",
    "print(positive_numbers)\n",
    "print(sum(positive_numbers))"
   ]
  },
  {
   "cell_type": "markdown",
   "id": "906f73a1",
   "metadata": {},
   "source": [
    "## Задача 4"
   ]
  },
  {
   "cell_type": "markdown",
   "id": "0f26a3a9",
   "metadata": {},
   "source": [
    "Даны два списка: дата покупки и суммы покупок по датам.\n",
    "\n",
    "Дата покупки\n",
    "['2021-09-14', '2021-12-15', '2021-09-08', '2021-12-05', '2021-10-09', '2021-09-30', '2021-12-22', '2021-11-29', '2021-12-24', '2021-11-26', '2021-10-27', '2021-12-18', '2021-11-09', '2021-11-23', '2021-09-27', '2021-10-02', '2021-12-27', '2021-09-20', '2021-12-13', '2021-11-01', '2021-11-09', '2021-12-06', '2021-12-08', '2021-10-09', '2021-10-31', '2021-09-30', '2021-11-09', '2021-12-13', '2021-10-26', '2021-12-09']\n",
    "\n",
    "Суммы покупок по датам\n",
    "[1270, 8413, 9028, 3703, 5739, 4095, 295, 4944, 5723, 3701, 4471, 651, 7037, 4274, 6275, 4988, 6930, 2971, 6592, 2004, 2822, 519, 3406, 2732, 5015, 2008, 316, 6333, 5700, 2887]"
   ]
  },
  {
   "cell_type": "markdown",
   "id": "f716b3cb",
   "metadata": {},
   "source": [
    "### Подзадача 4.1"
   ]
  },
  {
   "cell_type": "markdown",
   "id": "66f2e883",
   "metadata": {},
   "source": [
    "Найдите, какая выручка у компании в ноябре. Используйте list comprehensions"
   ]
  },
  {
   "cell_type": "code",
   "execution_count": 31,
   "id": "5b4f8f9c",
   "metadata": {},
   "outputs": [],
   "source": [
    "data_list = ['2021-09-14', '2021-12-15', '2021-09-08', \n",
    "             '2021-12-05', '2021-10-09', '2021-09-30', \n",
    "             '2021-12-22', '2021-11-29', '2021-12-24', \n",
    "             '2021-11-26', '2021-10-27', '2021-12-18', \n",
    "             '2021-11-09', '2021-11-23', '2021-09-27', \n",
    "             '2021-10-02', '2021-12-27', '2021-09-20', \n",
    "             '2021-12-13', '2021-11-01', '2021-11-09', \n",
    "             '2021-12-06', '2021-12-08', '2021-10-09', \n",
    "             '2021-10-31', '2021-09-30', '2021-11-09', \n",
    "             '2021-12-13', '2021-10-26', '2021-12-09']\n",
    "purchase_list = [1270, 8413, 9028, 3703, 5739, 4095, \n",
    "                 295, 4944, 5723, 3701, 4471, 651, \n",
    "                 7037, 4274, 6275, 4988, 6930, 2971, \n",
    "                 6592, 2004, 2822, 519, 3406, 2732, \n",
    "                 5015, 2008, 316, 6333, 5700, 2887]"
   ]
  },
  {
   "cell_type": "code",
   "execution_count": 33,
   "id": "3fbca667",
   "metadata": {},
   "outputs": [
    {
     "name": "stdout",
     "output_type": "stream",
     "text": [
      "['09', '12', '09', '12', '10', '09', '12', '11', '12', '11', '10', '12', '11', '11', '09', '10', '12', '09', '12', '11', '11', '12', '12', '10', '10', '09', '11', '12', '10', '12']\n"
     ]
    }
   ],
   "source": [
    "month_list = [i.split('-')[1] for i in data_list]\n",
    "print(month_list)"
   ]
  },
  {
   "cell_type": "code",
   "execution_count": 47,
   "id": "106b773f",
   "metadata": {},
   "outputs": [
    {
     "name": "stdout",
     "output_type": "stream",
     "text": [
      "['Revenue in November amounted to 25098']\n"
     ]
    }
   ],
   "source": [
    "november_purchase_list = [(f'Revenue in November amounted to {sum([amount for dates, amount in zip(data_list, purchase_list) if dates[5:7] == \"11\"])}')]\n",
    "print(november_purchase_list)"
   ]
  },
  {
   "cell_type": "markdown",
   "id": "05b4e813",
   "metadata": {},
   "source": [
    "### Подзадача 4.2"
   ]
  },
  {
   "cell_type": "markdown",
   "id": "a5e0181f",
   "metadata": {},
   "source": [
    "Найдите выручку компании в зависимости от месяца.\n",
    "Для этого напишите функцию, которая на вход принимает список с датами и список с выручкой, а на выходе словарь, где ключи - это месяцы, а значения - это выручка.\n",
    "Используйте аннотирование типов."
   ]
  },
  {
   "cell_type": "code",
   "execution_count": 50,
   "id": "2814952f",
   "metadata": {},
   "outputs": [
    {
     "name": "stdout",
     "output_type": "stream",
     "text": [
      "{'09': 25647, '12': 45452, '10': 28645, '11': 25098}\n"
     ]
    }
   ],
   "source": [
    "def month_revenue(data_list: list, revenue_list:list) -> dict:\n",
    "    dict_month_revenue = {}\n",
    "    for i in range(len(data_list)):\n",
    "        if data_list[i].split('-')[1] in dict_month_revenue.keys():\n",
    "            dict_month_revenue[data_list[i].split('-')[1]] += revenue_list[i]\n",
    "        else:\n",
    "            dict_month_revenue[data_list[i].split('-')[1]] = revenue_list[i]\n",
    "    return dict_month_revenue\n",
    "print(month_revenue(data_list, purchase_list))"
   ]
  },
  {
   "cell_type": "code",
   "execution_count": null,
   "id": "3c3593e3",
   "metadata": {},
   "outputs": [],
   "source": []
  }
 ],
 "metadata": {
  "kernelspec": {
   "display_name": "Python 3 (ipykernel)",
   "language": "python",
   "name": "python3"
  },
  "language_info": {
   "codemirror_mode": {
    "name": "ipython",
    "version": 3
   },
   "file_extension": ".py",
   "mimetype": "text/x-python",
   "name": "python",
   "nbconvert_exporter": "python",
   "pygments_lexer": "ipython3",
   "version": "3.11.4"
  }
 },
 "nbformat": 4,
 "nbformat_minor": 5
}
