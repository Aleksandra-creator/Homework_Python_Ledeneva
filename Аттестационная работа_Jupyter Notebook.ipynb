{
 "cells": [
  {
   "cell_type": "code",
   "execution_count": 1,
   "id": "062d86b3",
   "metadata": {},
   "outputs": [],
   "source": [
    "#f(x)=-12x^4*sin(cos(x))-18x^3+5x^2+10x-30\n",
    "\n",
    "# Определить корни\n",
    "# Найти интервалы, на которых функция возрастает\n",
    "# Найти интервалы, на которых функция убывает\n",
    "# Построить график\n",
    "# Вычислить вершину\n",
    "# Определить промежутки, на котором f > 0\n",
    "# Определить промежутки, на котором f < 0"
   ]
  },
  {
   "cell_type": "code",
   "execution_count": 2,
   "id": "2b0bdb27",
   "metadata": {},
   "outputs": [],
   "source": [
    "import numpy as np\n",
    "import matplotlib.pyplot as plt"
   ]
  },
  {
   "cell_type": "code",
   "execution_count": 3,
   "id": "d2a5d5c8",
   "metadata": {},
   "outputs": [],
   "source": [
    "def f(x):\n",
    "    return -12*x**4*np.sin(np.cos(x)) - 18*x**3 + 5*x**2 + 10*x - 30"
   ]
  },
  {
   "cell_type": "markdown",
   "id": "f2a04296",
   "metadata": {},
   "source": [
    "## Определить корни"
   ]
  },
  {
   "cell_type": "code",
   "execution_count": 4,
   "id": "dd6e2dd7",
   "metadata": {},
   "outputs": [
    {
     "name": "stdout",
     "output_type": "stream",
     "text": [
      "[-0.25325532+1.50956257j -0.25325532-1.50956257j -1.04111914+0.j\n",
      "  0.77381489+0.65277341j  0.77381489-0.65277341j]\n"
     ]
    }
   ],
   "source": [
    "roots = np.roots([-12,0,-18,5,10,-30])\n",
    "print(roots)"
   ]
  },
  {
   "cell_type": "markdown",
   "id": "17ba2333",
   "metadata": {},
   "source": [
    "## Найти интервалы, на которых функция возрастает | функция убывает"
   ]
  },
  {
   "cell_type": "code",
   "execution_count": 5,
   "id": "84b1f8f4",
   "metadata": {},
   "outputs": [
    {
     "name": "stdout",
     "output_type": "stream",
     "text": [
      "[]\n"
     ]
    }
   ],
   "source": [
    "increase_interval = []\n",
    "for i in range(len(roots)):\n",
    "    if f(roots[i]-0.01) > 0 and f(roots[i]+0.01) > 0:\n",
    "        x_l = roots[i]-0.01\n",
    "        while f(x_l) > 0:\n",
    "            x_l -= 0.01\n",
    "        x_r = roots[i]+0.01\n",
    "        while f(x_r) > 0:\n",
    "            x_r += 0.01\n",
    "        increase_interval.append((x_l, x_r))\n",
    "print(increase_interval)"
   ]
  },
  {
   "cell_type": "code",
   "execution_count": 6,
   "id": "638d4875",
   "metadata": {},
   "outputs": [
    {
     "name": "stdout",
     "output_type": "stream",
     "text": [
      "[((-0.8632553176936568+1.5095625715873655j), (0.6467446823063442+1.5095625715873655j)), ((-0.8632553176936568-1.5095625715873655j), (0.6467446823063442-1.5095625715873655j)), ((-1.3411191444344992+0j), (2.2788808555654976+0j)), ((-2.0661851100890942+0.6527734053287535j), (2.623814889910894+0.6527734053287535j)), ((-2.0661851100890942-0.6527734053287535j), (2.623814889910894-0.6527734053287535j))]\n"
     ]
    }
   ],
   "source": [
    "decrease_interval = []\n",
    "for i in range(len(roots)):\n",
    "    if f(roots[i]-0.01) < 0 and f(roots[i]+0.01) < 0:\n",
    "        x_l = roots[i]-0.01\n",
    "        while f(x_l) < 0:\n",
    "            x_l -= 0.01\n",
    "        x_r = roots[i]+0.01\n",
    "        while f(x_r) < 0:\n",
    "            x_r += 0.01\n",
    "        decrease_interval.append((x_l, x_r))\n",
    "print(decrease_interval)"
   ]
  },
  {
   "cell_type": "markdown",
   "id": "92bf6fdc",
   "metadata": {},
   "source": [
    "## Построить график"
   ]
  },
  {
   "cell_type": "code",
   "execution_count": 15,
   "id": "7c7aed21",
   "metadata": {},
   "outputs": [
    {
     "data": {
      "image/png": "[encoded data removed]",
      "text/plain": [
       "<Figure size 640x480 with 1 Axes>"
      ]
     },
     "metadata": {},
     "output_type": "display_data"
    }
   ],
   "source": [
    "x = np.linspace(-3,3,1000)\n",
    "y = f(x)\n",
    "plt.plot(x, y)\n",
    "plt.grid(True)\n",
    "plt.show()"
   ]
  },
  {
   "cell_type": "markdown",
   "id": "e30546aa",
   "metadata": {},
   "source": [
    "## Определить промежутки, на котором f > 0 | f < 0"
   ]
  },
  {
   "cell_type": "code",
   "execution_count": 12,
   "id": "545fc40e",
   "metadata": {},
   "outputs": [
    {
     "name": "stdout",
     "output_type": "stream",
     "text": [
      "Positive intervals -  [((-0.8632553176936568+1.5095625715873655j), (0.6467446823063442+1.5095625715873655j)), ((-0.8632553176936568-1.5095625715873655j), (0.6467446823063442-1.5095625715873655j)), ((-1.3411191444344992+0j), (2.2788808555654976+0j)), ((-2.0661851100890942+0.6527734053287535j), (2.623814889910894+0.6527734053287535j)), ((-2.0661851100890942-0.6527734053287535j), (2.623814889910894-0.6527734053287535j))]\n",
      "Negative interval -  []\n"
     ]
    }
   ],
   "source": [
    "positive_interval = []\n",
    "negative_interval = []\n",
    "for interval in increase_interval:\n",
    "    if f(interval[0]) > 0:\n",
    "        positive_interval.append(interval)\n",
    "    elif f(interval[0]) < 0:\n",
    "        negative_interval.append(interval)\n",
    "\n",
    "for interval in decrease_interval:\n",
    "    if f(interval[0]) > 0:\n",
    "        positive_interval.append(interval)\n",
    "    elif f(interval[0]) < 0:\n",
    "        negative_interval.append(interval)\n",
    "\n",
    "print('Positive intervals - ', positive_interval)\n",
    "\n",
    "print('Negative interval - ', negative_interval)"
   ]
  },
  {
   "cell_type": "code",
   "execution_count": null,
   "id": "b82622fc",
   "metadata": {},
   "outputs": [],
   "source": []
  },
  {
   "cell_type": "code",
   "execution_count": null,
   "id": "d946b629",
   "metadata": {},
   "outputs": [],
   "source": []
  },
  {
   "cell_type": "code",
   "execution_count": null,
   "id": "c04f1412",
   "metadata": {},
   "outputs": [],
   "source": []
  }
 ],
 "metadata": {
  "kernelspec": {
   "display_name": "Python 3 (ipykernel)",
   "language": "python",
   "name": "python3"
  },
  "language_info": {
   "codemirror_mode": {
    "name": "ipython",
    "version": 3
   },
   "file_extension": ".py",
   "mimetype": "text/x-python",
   "name": "python",
   "nbconvert_exporter": "python",
   "pygments_lexer": "ipython3",
   "version": "3.11.4"
  }
 },
 "nbformat": 4,
 "nbformat_minor": 5
}
